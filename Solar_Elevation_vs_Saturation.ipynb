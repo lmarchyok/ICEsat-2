{
  "nbformat": 4,
  "nbformat_minor": 0,
  "metadata": {
    "colab": {
      "provenance": [],
      "authorship_tag": "ABX9TyOxM4BjajfL/bAbo4iRe1D6",
      "include_colab_link": true
    },
    "kernelspec": {
      "name": "python3",
      "display_name": "Python 3"
    },
    "language_info": {
      "name": "python"
    }
  },
  "cells": [
    {
      "cell_type": "markdown",
      "metadata": {
        "id": "view-in-github",
        "colab_type": "text"
      },
      "source": [
        "<a href=\"https://colab.research.google.com/github/lmarchyok/ICEsat-2/blob/main/Solar_Elevation_vs_Saturation.ipynb\" target=\"_parent\"><img src=\"https://colab.research.google.com/assets/colab-badge.svg\" alt=\"Open In Colab\"/></a>"
      ]
    },
    {
      "cell_type": "code",
      "source": [
        "from google.colab import drive\n",
        "drive.mount('/content/drive/')"
      ],
      "metadata": {
        "colab": {
          "base_uri": "https://localhost:8080/"
        },
        "id": "Gkq62e05J-kt",
        "outputId": "e6dd41ae-21f0-4f07-e89c-15ef72fb26b2"
      },
      "execution_count": 1,
      "outputs": [
        {
          "output_type": "stream",
          "name": "stdout",
          "text": [
            "Mounted at /content/drive/\n"
          ]
        }
      ]
    },
    {
      "cell_type": "code",
      "execution_count": 6,
      "metadata": {
        "id": "ZTFVkh9PIJOC"
      },
      "outputs": [],
      "source": [
        "import pandas as pd\n",
        "import os\n",
        "import numpy as np\n",
        "import zipfile\n",
        "import h5py\n",
        "import matplotlib.pylab as plt"
      ]
    },
    {
      "cell_type": "code",
      "source": [
        "from IPython.utils import strdispatch\n",
        "class ICEsat_2_visualizer: \n",
        "\n",
        "  def __init__(self, data_dir: str, laser_id: str, var1: str, var2: str):\n",
        "    self.data_dir = data_dir\n",
        "    self.laser_id = laser_id\n",
        "    self.var1 = var1\n",
        "    self.var2 = var2\n",
        "\n",
        "  def zip_extraction(self):\n",
        "\n",
        "    destination_dir = '/content/drive/MyDrive/ICEsat-2/ICEsat-2_data_downloads/OR'\n",
        "\n",
        "    zp = zipfile.ZipFile(self.data_dir)\n",
        "    zp.extractall(destination_dir)\n",
        "    \n",
        "    for i in os.listdir(destination_dir):\n",
        "\n",
        "      if i == 'Oregon_Data':\n",
        "        continue\n",
        "      elif i == 'IceSat2_Data_OR.pptx':\n",
        "        continue\n",
        "      elif i == '._IceSat2_Data_OR.pptx':\n",
        "        continue \n",
        "      else:\n",
        "        final = destination_dir + '/' + i\n",
        "        finaldir = os.listdir(final)[0]\n",
        "    return final + '/' + finaldir \n",
        "\n",
        "  def h5_extraction(self):\n",
        "\n",
        "    with h5py.File(self.zip_extraction(), 'r') as f1:\n",
        "        laser = f1.get(self.laser_id)\n",
        "        laser_data = laser.get('geolocation')\n",
        "        var1 = laser_data.get(self.var1)\n",
        "        var2 = laser_data.get(self.var2)\n",
        "        var1_arr = np.array(var1)\n",
        "        var2_arr = np.array(var2)\n",
        "    \n",
        "    return (var1_arr, var2_arr)\n",
        "\n",
        "\n",
        "  def plot_sat_vs_sol_elev(self, selims='auto'):\n",
        "\n",
        "    if selims=='auto':\n",
        "          lower = np.nanmin(self.h5_extraction()[1])\n",
        "          upper = np.nanmax(self.h5_extraction()[1])\n",
        "          serange = upper - lower\n",
        "          selims = [lower - 0.2*serange, upper + 0.1*serange]\n",
        "\n",
        "    lat_lower = np.nanmin(self.h5_extraction()[0])\n",
        "    lat_upper = np.nanmax(self.h5_extraction()[0])\n",
        "    latrange = lat_upper - lat_lower\n",
        "    latlims = [lat_lower - 0.2 * latrange, lat_upper + 0.1 * latrange]\n",
        "\n",
        "    print(lat_lower)\n",
        "    print(lat_upper)\n",
        "\n",
        "    fig = plt.figure(figsize=(9, 6), dpi=80, facecolor='w', edgecolor='k')\n",
        "    ax = fig.add_subplot(111)\n",
        "    solar_elevation = self.h5_extraction()[0]\n",
        "    saturation = self.h5_extraction()[1]\n",
        "    ax.set_title(f'{self.var1} vs {self.var2} over 700m')\n",
        "    ax.set_xlabel('Solar Elevation (degrees)')\n",
        "    ax.set_ylabel('Saturation (percentage)')\n",
        "\n",
        "    atl03_plot = ax.scatter(solar_elevation, saturation, s=10,c='k',edgecolors='none',label=self.laser_id)\n",
        "    ax.legend(handles=[atl03_plot], loc='lower left')\n",
        "    ax.set_xlim(latlims)\n",
        "    ax.set_ylim(selims)\n",
        "\n",
        "    if not os.path.exists('figs'):\n",
        "        os.makedirs('figs')\n",
        "    fn = f'figs/atl03_plot_{self.var1}_vs_{self.var2}_{self.laser_id}.png'\n",
        "    plt.savefig(fn, dpi=150)"
      ],
      "metadata": {
        "id": "ZDUnYPXRKS1k"
      },
      "execution_count": 77,
      "outputs": []
    },
    {
      "cell_type": "code",
      "source": [
        "if __name__ == '__main__':\n",
        "  zip_folder = '/content/drive/MyDrive/ICEsat-2/ICEsat-2_data_downloads/OR/Oregon_Data/5000003225149.zip'\n",
        "  visualizer = ICEsat_2_visualizer(zip_folder, 'gt3r', 'solar_elevation', 'full_sat_fract')\n",
        "  visualizer.zip_extraction()\n",
        "  visualizer.h5_extraction()\n",
        "  visualizer.plot_sat_vs_sol_elev()"
      ],
      "metadata": {
        "colab": {
          "base_uri": "https://localhost:8080/",
          "height": 487
        },
        "id": "8hNc1tUyK7Xh",
        "outputId": "f539e76f-d0e4-4c54-f5d8-85029e3152af"
      },
      "execution_count": 78,
      "outputs": [
        {
          "output_type": "stream",
          "name": "stdout",
          "text": [
            "24.244986\n",
            "24.269262\n"
          ]
        },
        {
          "output_type": "display_data",
          "data": {
            "text/plain": [
              "<Figure size 720x480 with 1 Axes>"
            ],
            "image/png": "[encoded data removed]"
          },
          "metadata": {}
        }
      ]
    }
  ]
}