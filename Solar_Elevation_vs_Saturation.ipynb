{
  "nbformat": 4,
  "nbformat_minor": 0,
  "metadata": {
    "colab": {
      "provenance": [],
      "authorship_tag": "ABX9TyPybjzSnhlZVygdyvuM37DB",
      "include_colab_link": true
    },
    "kernelspec": {
      "name": "python3",
      "display_name": "Python 3"
    },
    "language_info": {
      "name": "python"
    }
  },
  "cells": [
    {
      "cell_type": "markdown",
      "metadata": {
        "id": "view-in-github",
        "colab_type": "text"
      },
      "source": [
        "<a href=\"https://colab.research.google.com/github/lmarchyok/ICEsat-2/blob/main/Solar_Elevation_vs_Saturation.ipynb\" target=\"_parent\"><img src=\"https://colab.research.google.com/assets/colab-badge.svg\" alt=\"Open In Colab\"/></a>"
      ]
    },
    {
      "cell_type": "code",
      "source": [
        "from google.colab import drive\n",
        "drive.mount('/content/drive/')"
      ],
      "metadata": {
        "colab": {
          "base_uri": "https://localhost:8080/"
        },
        "id": "Gkq62e05J-kt",
        "outputId": "77056d41-18f8-45ad-f2c9-51964813074f"
      },
      "execution_count": 1,
      "outputs": [
        {
          "output_type": "stream",
          "name": "stdout",
          "text": [
            "Mounted at /content/drive/\n"
          ]
        }
      ]
    },
    {
      "cell_type": "code",
      "execution_count": 2,
      "metadata": {
        "id": "ZTFVkh9PIJOC"
      },
      "outputs": [],
      "source": [
        "import pandas as pd\n",
        "import os\n",
        "import numpy as np\n",
        "import zipfile\n",
        "import h5py\n",
        "import matplotlib.pylab as plt"
      ]
    },
    {
      "cell_type": "code",
      "source": [
        "data_dir = '/content/drive/MyDrive/ICEsat-2/ICEsat-2_data_downloads/OR/Oregon_Data/5000003164021.zip'\n",
        "\n",
        "with zipfile.ZipFile(data_dir) as zp:\n",
        "   zp.extractall()"
      ],
      "metadata": {
        "id": "ZDUnYPXRKS1k"
      },
      "execution_count": 3,
      "outputs": []
    },
    {
      "cell_type": "code",
      "source": [
        "h5_file = '/content/225152451/processed_ATL03_20191005064105_01280502_005_01.h5'\n",
        "\n",
        "with h5py.File(h5_file, 'r') as f1:\n",
        "#    print(list(f1.keys()))\n",
        "    gt1l = f1.get('gt1l')\n",
        "    gt1l_arr = np.array(gt1l)\n",
        "    gt1l_data = gt1l.get('geolocation')\n",
        "    gt1l_data_arr = np.array(gt1l_data)\n",
        "    solar_elevation = gt1l_data.get('solar_elevation')\n",
        "    saturation = gt1l_data.get('full_sat_fract')\n",
        "    solar_elevation_arr = np.array(solar_elevation)\n",
        "    saturation_arr = np.array(saturation)\n",
        "#    print(gt1l_arr)\n",
        "#    print(gt1l_data_arr)\n",
        "    print(solar_elevation_arr)\n",
        "    print(saturation_arr)\n",
        "    print(saturation_arr.max())\n",
        "    print(solar_elevation_arr.shape)"
      ],
      "metadata": {
        "id": "AibxMyOvKoTJ",
        "colab": {
          "base_uri": "https://localhost:8080/"
        },
        "outputId": "7ff4409a-ab7d-4077-9633-ec98ee790af5"
      },
      "execution_count": 27,
      "outputs": [
        {
          "output_type": "stream",
          "name": "stdout",
          "text": [
            "[-47.86735  -47.86718  -47.867027 ... -47.44717  -47.447014 -47.44687 ]\n",
            "[0. 0. 0. ... 0. 0. 0.]\n",
            "0.1875\n",
            "(2658,)\n"
          ]
        }
      ]
    },
    {
      "cell_type": "code",
      "source": [
        "def plot_sat_vs_sol_elev(title='Solar Elevation over 700m', selims='auto'):\n",
        "    if selims=='auto':\n",
        "        lower = np.nanmin(saturation_arr)\n",
        "        upper = np.nanmax(saturation_arr)\n",
        "        serange = upper - lower\n",
        "        selims = [lower - 0.2*serange, upper + 0.1*serange]\n",
        "\n",
        "    lat_lower = np.nanmin(solar_elevation_arr)\n",
        "    lat_upper = np.nanmax(solar_elevation_arr)\n",
        "    latrange = lat_upper - lat_lower\n",
        "    latlims = [lat_lower - 0.2 * latrange, lat_upper + 0.1 * latrange]\n",
        "\n",
        "    print(lat_lower)\n",
        "    print(lat_upper)\n",
        "\n",
        "    fig = plt.figure(figsize=(9, 6), dpi=80, facecolor='w', edgecolor='k')\n",
        "    ax = fig.add_subplot(111)\n",
        "    solar_elevation = solar_elevation_arr\n",
        "    saturation = saturation_arr\n",
        "    ax.set_title(title)\n",
        "    ax.set_xlabel('solar_elevation (degrees)')\n",
        "    ax.set_ylabel('saturation (percentage)')\n",
        "\n",
        "    atl03_plot = ax.scatter(solar_elevation, saturation, s=10,c='k',edgecolors='none',label='gt1l')\n",
        "    ax.legend(handles=[atl03_plot], loc='lower left')\n",
        "    ax.set_xlim(latlims)\n",
        "    ax.set_ylim(selims)\n",
        "\n",
        "    if not os.path.exists('figs'):\n",
        "        os.makedirs('figs')\n",
        "    fn = 'figs/atl03_plot_solar_elevation.png'\n",
        "    plt.savefig(fn, dpi=150)"
      ],
      "metadata": {
        "id": "SMiT3Hl6K5Gb"
      },
      "execution_count": 28,
      "outputs": []
    },
    {
      "cell_type": "code",
      "source": [
        "if __name__ == '__main__':\n",
        "    plot_sat_vs_sol_elev()"
      ],
      "metadata": {
        "colab": {
          "base_uri": "https://localhost:8080/",
          "height": 488
        },
        "id": "8hNc1tUyK7Xh",
        "outputId": "604f9f67-54d6-4d0b-f3c5-a7a0696d4ca8"
      },
      "execution_count": 29,
      "outputs": [
        {
          "output_type": "stream",
          "name": "stdout",
          "text": [
            "-47.86735\n",
            "-47.44687\n"
          ]
        },
        {
          "output_type": "display_data",
          "data": {
            "text/plain": [
              "<Figure size 720x480 with 1 Axes>"
            ],
            "image/png": "[encoded data removed]"
          },
          "metadata": {}
        }
      ]
    }
  ]
}