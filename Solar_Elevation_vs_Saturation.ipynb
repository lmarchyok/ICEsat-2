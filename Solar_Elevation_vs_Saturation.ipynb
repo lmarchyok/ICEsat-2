{
  "nbformat": 4,
  "nbformat_minor": 0,
  "metadata": {
    "colab": {
      "provenance": [],
      "authorship_tag": "ABX9TyPcR/aPp6Svs9Od9vA697HG",
      "include_colab_link": true
    },
    "kernelspec": {
      "name": "python3",
      "display_name": "Python 3"
    },
    "language_info": {
      "name": "python"
    }
  },
  "cells": [
    {
      "cell_type": "markdown",
      "metadata": {
        "id": "view-in-github",
        "colab_type": "text"
      },
      "source": [
        "<a href=\"https://colab.research.google.com/github/lmarchyok/ICEsat-2/blob/main/Solar_Elevation_vs_Saturation.ipynb\" target=\"_parent\"><img src=\"https://colab.research.google.com/assets/colab-badge.svg\" alt=\"Open In Colab\"/></a>"
      ]
    },
    {
      "cell_type": "code",
      "source": [
        "# connect to google drive\n",
        "\n",
        "from google.colab import drive\n",
        "drive.mount('/content/drive/')"
      ],
      "metadata": {
        "colab": {
          "base_uri": "https://localhost:8080/"
        },
        "id": "Gkq62e05J-kt",
        "outputId": "6c833486-f3f0-4747-ef0b-61247d473ab2"
      },
      "execution_count": 1,
      "outputs": [
        {
          "output_type": "stream",
          "name": "stdout",
          "text": [
            "Mounted at /content/drive/\n"
          ]
        }
      ]
    },
    {
      "cell_type": "code",
      "execution_count": 2,
      "metadata": {
        "id": "ZTFVkh9PIJOC"
      },
      "outputs": [],
      "source": [
        "# import dependencies\n",
        "\n",
        "import pandas as pd\n",
        "import os\n",
        "import numpy as np\n",
        "import zipfile\n",
        "from zipfile import BadZipFile\n",
        "import h5py\n",
        "import matplotlib.pylab as plt\n",
        "from IPython.utils import strdispatch"
      ]
    },
    {
      "cell_type": "code",
      "source": [
        "# one big class for all of our data processing and visualization methods\n",
        "\n",
        "class ICEsat_2_visualizer: \n",
        "\n",
        "  all = []\n",
        "\n",
        "  # grab the variables we want to plot against one another at the instantiation of the class \n",
        "\n",
        "  def __init__(self, data_dir: str, laser_id: str, var1: str, var2: str):\n",
        "    self.data_dir = data_dir\n",
        "    self.laser_id = laser_id\n",
        "    self.var1 = var1\n",
        "    self.var2 = var2\n",
        "\n",
        "    ICEsat_2_visualizer.all.append(self)\n",
        "\n",
        "  def __repr__(self): \n",
        "    return f'{self.data_id}'\n",
        "\n",
        "  # unzip the zipfiles and move folder containing h5 files to 'oregon data' folder \n",
        "\n",
        "  def zip_extraction(self):\n",
        "\n",
        "    destination_dir = '/content/drive/MyDrive/ICEsat-2/ICEsat-2_data_downloads/OR'\n",
        "\n",
        "    zp = zipfile.ZipFile(self.data_dir)\n",
        "    zp.extractall(destination_dir)\n",
        "    \n",
        "    for i in os.listdir(destination_dir):\n",
        "\n",
        "      if i == 'Oregon_Data':\n",
        "        continue\n",
        "      elif i == 'IceSat2_Data_OR.pptx':\n",
        "        continue\n",
        "      elif i == '._IceSat2_Data_OR.pptx':\n",
        "        continue\n",
        "      elif i in ICEsat_2_visualizer.all:\n",
        "        continue\n",
        "      else:\n",
        "        self.data_id = i\n",
        "        final = destination_dir + '/' + i\n",
        "        finaldir = os.listdir(final)[0]\n",
        "\n",
        "    return final + '/' + finaldir \n",
        "\n",
        "  # extract data from h5 file\n",
        "\n",
        "  def h5_extraction(self):\n",
        "\n",
        "    with h5py.File(self.zip_extraction(), 'r') as f1:\n",
        "        laser = f1.get(self.laser_id)\n",
        "        laser_data = laser.get('geolocation')\n",
        "        var1 = laser_data.get(self.var1)\n",
        "        var2 = laser_data.get(self.var2)\n",
        "        var1_arr = np.array(var1)\n",
        "\n",
        "        # delete extreme outlier data points for solar_elevation\n",
        "        if self.var1 == 'solar_elevation':\n",
        "          var1_arr_cur = np.delete(var1_arr, (var1_arr > 180))\n",
        "\n",
        "          var2_arr = np.array(var2)\n",
        "\n",
        "          for i in np.where(var1_arr > 180):\n",
        "\n",
        "            list_of_bad_datapoints = []\n",
        "\n",
        "            if len(i) > 0:\n",
        "              for j in i:\n",
        "                list_of_bad_datapoints.append(j)\n",
        "              var2_arr_cur = np.delete(var2_arr, list_of_bad_datapoints)\n",
        "            else:\n",
        "              var2_arr_cur = var2_arr\n",
        "        \n",
        "          print(var1_arr_cur)\n",
        "          print(var2_arr_cur)\n",
        "\n",
        "        f1.close()\n",
        "    \n",
        "    return (var1_arr_cur, var2_arr_cur)\n",
        "\n",
        "  # create a figures folder and visualize data using matlab-style plot \n",
        "\n",
        "  def plot_sat_vs_sol_elev(self, selims='auto'):\n",
        "\n",
        "    if selims=='auto':\n",
        "          lower = np.nanmin(self.h5_extraction()[1])\n",
        "          upper = np.nanmax(self.h5_extraction()[1])\n",
        "          serange = upper - lower\n",
        "          selims = [lower - 0.2*serange, upper + 0.1*serange]\n",
        "\n",
        "    lat_lower = np.nanmin(self.h5_extraction()[0])\n",
        "    lat_upper = np.nanmax(self.h5_extraction()[0])\n",
        "    latrange = lat_upper - lat_lower\n",
        "    latlims = [lat_lower - 0.2 * latrange, lat_upper + 0.1 * latrange]\n",
        "\n",
        "    fig = plt.figure(figsize=(9, 6), dpi=80, facecolor='w', edgecolor='k')\n",
        "    ax = fig.add_subplot(111)\n",
        "    solar_elevation = self.h5_extraction()[0]\n",
        "    saturation = self.h5_extraction()[1]\n",
        "    ax.set_title(f'{self.var1} vs {self.var2} over 700m ({self.laser_id}')\n",
        "    ax.set_xlabel('Solar Elevation (degrees)')\n",
        "    ax.set_ylabel('Saturation (percentage)')\n",
        "\n",
        "    atl03_plot = ax.scatter(solar_elevation, saturation, s=10,c='k',edgecolors='none',label=self.laser_id)\n",
        "    ax.legend(handles=[atl03_plot], loc='lower left')\n",
        "    ax.set_xlim(latlims)\n",
        "    ax.set_ylim(selims)\n",
        "\n",
        "    if not os.path.exists(f'figs/{self.data_id}'):\n",
        "        os.makedirs(f'figs/{self.data_id}')\n",
        "    fn = f'figs/{self.data_id}/{self.var1}_vs_{self.var2}_{self.laser_id}.png'\n",
        "    plt.savefig(fn, dpi=150)\n",
        "    plt.close()"
      ],
      "metadata": {
        "id": "ZDUnYPXRKS1k"
      },
      "execution_count": 27,
      "outputs": []
    },
    {
      "cell_type": "code",
      "source": [
        "  # main function loops through the data directory, and plots solar_elevation vs full_sat_fract for each laser\n",
        "  \n",
        "  def main():\n",
        "    oregon_datapath = '/content/drive/MyDrive/ICEsat-2/ICEsat-2_data_downloads/OR/Oregon_Data/'\n",
        "    beams = ['gt1l', 'gt1r', 'gt2l', 'gt2r', 'gt3l', 'gt3r']\n",
        "\n",
        "    for zipfile in os.listdir(oregon_datapath):\n",
        "      if zipfile[:2] == '._':\n",
        "        continue\n",
        "      else:\n",
        "        print(zipfile)\n",
        "        for beam in beams:\n",
        "          visualizer = ICEsat_2_visualizer((oregon_datapath + zipfile), beam, 'solar_elevation', 'full_sat_fract')\n",
        "          visualizer.zip_extraction()\n",
        "          visualizer.h5_extraction()\n",
        "          visualizer.plot_sat_vs_sol_elev()\n",
        "      break"
      ],
      "metadata": {
        "id": "b3PTwLbicEmK"
      },
      "execution_count": 17,
      "outputs": []
    },
    {
      "cell_type": "code",
      "source": [
        "if __name__ == '__main__':\n",
        "  main()"
      ],
      "metadata": {
        "id": "8hNc1tUyK7Xh"
      },
      "execution_count": null,
      "outputs": []
    }
  ]
}