{
  "nbformat": 4,
  "nbformat_minor": 0,
  "metadata": {
    "colab": {
      "provenance": [],
      "authorship_tag": "ABX9TyPJE3vxX3v/vc8Z1327EHKw",
      "include_colab_link": true
    },
    "kernelspec": {
      "name": "python3",
      "display_name": "Python 3"
    },
    "language_info": {
      "name": "python"
    }
  },
  "cells": [
    {
      "cell_type": "markdown",
      "metadata": {
        "id": "view-in-github",
        "colab_type": "text"
      },
      "source": [
        "<a href=\"https://colab.research.google.com/github/lmarchyok/ICEsat-2/blob/main/Solar_Elevation_Plot.ipynb\" target=\"_parent\"><img src=\"https://colab.research.google.com/assets/colab-badge.svg\" alt=\"Open In Colab\"/></a>"
      ]
    },
    {
      "cell_type": "code",
      "source": [
        "from google.colab import drive\n",
        "drive.mount('/content/drive/')"
      ],
      "metadata": {
        "colab": {
          "base_uri": "https://localhost:8080/"
        },
        "id": "Gkq62e05J-kt",
        "outputId": "dd49aa18-4084-4c10-87a7-a6e308dd2db3"
      },
      "execution_count": 2,
      "outputs": [
        {
          "output_type": "stream",
          "name": "stdout",
          "text": [
            "Mounted at /content/drive/\n"
          ]
        }
      ]
    },
    {
      "cell_type": "code",
      "execution_count": 1,
      "metadata": {
        "id": "ZTFVkh9PIJOC"
      },
      "outputs": [],
      "source": [
        "import pandas as pd\n",
        "import os\n",
        "import numpy as np\n",
        "import zipfile\n",
        "import h5py\n",
        "import matplotlib.pylab as plt"
      ]
    },
    {
      "cell_type": "code",
      "source": [
        "data_dir = '/content/drive/MyDrive/ICEsat-2/ICEsat-2_data_downloads/OR/Oregon_Data/5000003164021.zip'\n",
        "\n",
        "with zipfile.ZipFile(data_dir) as zp:\n",
        "   zp.extractall()"
      ],
      "metadata": {
        "id": "ZDUnYPXRKS1k"
      },
      "execution_count": 3,
      "outputs": []
    },
    {
      "cell_type": "code",
      "source": [
        "h5_file = '/content/225152451/processed_ATL03_20191005064105_01280502_005_01.h5'\n",
        "\n",
        "with h5py.File(h5_file, 'r') as f1:\n",
        "#    print(list(f1.keys()))\n",
        "    gt1l = f1.get('gt1l')\n",
        "    gt1l_arr = np.array(gt1l)\n",
        "    gt1l_data = gt1l.get('geolocation')\n",
        "    gt1l_data_arr = np.array(gt1l_data)\n",
        "    solar_elevation = gt1l_data.get('solar_elevation')\n",
        "    sigma_lat = gt1l_data.get('sigma_lon')\n",
        "    solar_elevation_arr = np.array(solar_elevation)\n",
        "    sigma_lat_arr = np.array(sigma_lat)\n",
        "#    print(gt1l_arr)\n",
        "#    print(gt1l_data_arr)\n",
        "#    print(solar_elevation_arr)\n",
        "#    print(sigma_lat_arr)\n",
        "#    print(solar_elevation_arr.shape)"
      ],
      "metadata": {
        "id": "AibxMyOvKoTJ"
      },
      "execution_count": 5,
      "outputs": []
    },
    {
      "cell_type": "code",
      "source": [
        "def plot_product_data(title='Solar Elevation over 700m', selims='auto'):\n",
        "    if selims=='auto':\n",
        "        lower = np.nanmin(solar_elevation_arr)\n",
        "        upper = np.nanmax(solar_elevation_arr)\n",
        "        serange = upper - lower\n",
        "        selims = [lower - 0.2*serange, upper + 0.1*serange]\n",
        "\n",
        "    lat_lower = np.nanmin(sigma_lat_arr)\n",
        "    lat_upper = np.nanmax(sigma_lat_arr)\n",
        "    latrange = lat_upper - lat_lower\n",
        "    latlims = [lat_lower - 0.2 * latrange, lat_upper + 0.1 * latrange]\n",
        "\n",
        "    print(lat_lower)\n",
        "    print(lat_upper)\n",
        "\n",
        "    fig = plt.figure(figsize=(9, 6), dpi=80, facecolor='w', edgecolor='k')\n",
        "    ax = fig.add_subplot(111)\n",
        "    solar_elevation = solar_elevation_arr\n",
        "    sigma_lat = sigma_lat_arr\n",
        "    ax.set_title(title)\n",
        "    ax.set_xlabel('latitude (degrees)')\n",
        "    ax.set_ylabel('solar_elevation (degrees)')\n",
        "\n",
        "    atl03_plot = ax.scatter(sigma_lat,solar_elevation,s=10,c='k',edgecolors='none',label='atl03')\n",
        "    ax.legend(handles=[atl03_plot], loc='lower left')\n",
        "    ax.set_xlim(latlims)\n",
        "    ax.set_ylim(selims)\n",
        "\n",
        "    if not os.path.exists('figs'):\n",
        "        os.makedirs('figs')\n",
        "    fn = 'figs/atl03_plot_solar_elevation.png'\n",
        "    plt.savefig(fn, dpi=150)"
      ],
      "metadata": {
        "id": "SMiT3Hl6K5Gb"
      },
      "execution_count": 6,
      "outputs": []
    },
    {
      "cell_type": "code",
      "source": [
        "if __name__ == '__main__':\n",
        "    plot_product_data()"
      ],
      "metadata": {
        "colab": {
          "base_uri": "https://localhost:8080/",
          "height": 486
        },
        "id": "8hNc1tUyK7Xh",
        "outputId": "ecb5d2ab-65c6-44c9-923b-f1ee2a43af7c"
      },
      "execution_count": 7,
      "outputs": [
        {
          "output_type": "stream",
          "name": "stdout",
          "text": [
            "1.621917e-05\n",
            "4.2399643e-05\n"
          ]
        },
        {
          "output_type": "display_data",
          "data": {
            "text/plain": [
              "<Figure size 720x480 with 1 Axes>"
            ],
            "image/png": "[encoded data removed]"
          },
          "metadata": {}
        }
      ]
    }
  ]
}